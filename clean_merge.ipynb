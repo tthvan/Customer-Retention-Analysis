{
 "cells": [
  {
   "cell_type": "markdown",
   "id": "ceb55a90",
   "metadata": {},
   "source": [
    "# Clean & Merge/Match 3 Datasets"
   ]
  },
  {
   "cell_type": "markdown",
   "id": "ab3ae126",
   "metadata": {},
   "source": []
  }
 ],
 "metadata": {
  "language_info": {
   "name": "python"
  }
 },
 "nbformat": 4,
 "nbformat_minor": 5
}
