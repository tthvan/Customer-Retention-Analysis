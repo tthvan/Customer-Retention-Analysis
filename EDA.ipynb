{
 "cells": [
  {
   "cell_type": "code",
   "execution_count": 1,
   "id": "e2de434d",
   "metadata": {},
   "outputs": [],
   "source": [
    "import glob\n",
    "import pandas as pd\n",
    "import matplotlib.pyplot as plt\n",
    "import seaborn as sns\n",
    "import numpy as np\n",
    "#from adjustText import adjust_text"
   ]
  },
  {
   "cell_type": "code",
   "execution_count": 4,
   "id": "fa61beec",
   "metadata": {},
   "outputs": [
    {
     "name": "stderr",
     "output_type": "stream",
     "text": [
      "c:\\Users\\Admin\\anaconda3\\Lib\\site-packages\\openpyxl\\worksheet\\_read_only.py:79: UserWarning: Data Validation extension is not supported and will be removed\n",
      "  for idx, row in parser.parse():\n"
     ]
    },
    {
     "name": "stdout",
     "output_type": "stream",
     "text": [
      "         SID SID_8digit SID_5digit                  Name Grade_actual  \\\n",
      "0  2001-4683   20014683      14683        Tran Khanh Chi         HM 6   \n",
      "1  2001-3864   20013864      13864     Nguyen Ngoc Thien         HM 6   \n",
      "2  2300-3836   23003836      03836         Đào Quỳnh Anh      Grade K   \n",
      "3  2300-3836   23003836      03836         Dao Quynh Anh          NaN   \n",
      "4  2100-0100   21000100      00100  Nguyễn Hoàng Trúc An      Grade K   \n",
      "\n",
      "     Grade  EFL                                  Note MVA/MVSM concat  \\\n",
      "0     HM 6  NaN  Found in goiten, not in student list      NaN    NaN   \n",
      "1     HM 6  NaN  Found in goiten, not in student list      NaN    NaN   \n",
      "2  Grade K  NaN  Found in goiten, not in student list      NaN    NaN   \n",
      "3  Grade 2  NaN                                   NaN      NaN    NaN   \n",
      "4  Grade K  NaN  Found in goiten, not in student list      NaN    NaN   \n",
      "\n",
      "   4 last digits Học sinh cùng lớp có chung 4 số cuối ID           last_join  \\\n",
      "0            NaN                                     NaN 2025-05-29 18:29:00   \n",
      "1            NaN                                     NaN 2025-04-24 19:28:00   \n",
      "2            NaN                                     NaN 2025-03-26 19:58:00   \n",
      "3            NaN                                     NaN 2025-03-26 19:58:00   \n",
      "4            NaN                                     NaN 2025-01-07 19:34:00   \n",
      "\n",
      "   days_to_end  dropout _merge  \n",
      "0            1    False   both  \n",
      "1           36     True   both  \n",
      "2           65     True   both  \n",
      "3           65     True   both  \n",
      "4          143     True   both  \n",
      "     Topic             ID   Host name                     Host email  \\\n",
      "0  2501HUM  977 3083 0512  schedule 1  schedule1@minhvietacademy.org   \n",
      "1  2501HUM  977 3083 0512  schedule 1  schedule1@minhvietacademy.org   \n",
      "2  2501HUM  977 3083 0512  schedule 1  schedule1@minhvietacademy.org   \n",
      "3  2501HUM  977 3083 0512  schedule 1  schedule1@minhvietacademy.org   \n",
      "4  2501HUM  977 3083 0512  schedule 1  schedule1@minhvietacademy.org   \n",
      "\n",
      "        Start time         End time  Participants  Duration (minutes)  \\\n",
      "0  9/30/2024 19:25  9/30/2024 20:25           211                  60   \n",
      "1  9/30/2024 19:25  9/30/2024 20:25           211                  60   \n",
      "2  9/30/2024 19:25  9/30/2024 20:25           211                  60   \n",
      "3  9/30/2024 19:25  9/30/2024 20:25           211                  60   \n",
      "4  9/30/2024 19:25  9/30/2024 20:25           211                  60   \n",
      "\n",
      "          Name (original name)                         Email  ...   SID_full  \\\n",
      "0   Mai Nguyen Truc Linh 01816  23001816@minhvietacademy.org  ...  2300-1816   \n",
      "1  Nguyen Pham Nhat Minh 02469  22002469@minhvietacademy.org  ...  2200-2469   \n",
      "2           Yen Ha Tu Vy 02190  24002190@minhvietacademy.org  ...  2400-2190   \n",
      "3         Lai Ngan Khanh 01771  23001771@minhvietacademy.org  ...  2300-1771   \n",
      "4        Tran Minh Khang 03927  23003927@minhvietacademy.org  ...  2300-3927   \n",
      "\n",
      "                    Name    Grade     EFL        Note MVA/MVSM        concat  \\\n",
      "0   Mai Nguyễn Trúc Linh  Grade 1  EFL K5  Chính thức      MVA  MVA2300-1816   \n",
      "1  Nguyễn Phạm Nhật Minh  Grade 1  EFL K5  Chính thức      MVA  MVA2200-2469   \n",
      "2           VY HÀ TÚ YÊN  Grade 1  EFL K5  Chính thức      MVA  MVA2400-2190   \n",
      "3         Lại Ngân Khánh  Grade 1  EFL K5  Chính thức      MVA  MVA2300-1771   \n",
      "4        Trần Minh Khang  Grade 1  EFL K5  Chính thức      MVA  MVA2300-3927   \n",
      "\n",
      "  4 last digits  Học sinh cùng lớp có chung 4 số cuối ID _merge  \n",
      "0        1816.0                                      NaN   both  \n",
      "1        2469.0                                      NaN   both  \n",
      "2        2190.0                                      NaN   both  \n",
      "3        1771.0                                      NaN   both  \n",
      "4        3927.0                                      NaN   both  \n",
      "\n",
      "[5 rows x 34 columns]\n",
      "    SID_full SID_8digit SID_5digit            Name  Grade K  Call Successful  \\\n",
      "0  1904-0019   19040019      40019    Hoàng Gia An  Grade 9     0        NaN   \n",
      "1  1904-0019   19040019      40019    Hoàng Gia An   EFL 69     0        NaN   \n",
      "2  1904-0020   19040020      40020  Hoàng Khải Lâm  Grade 9     0        NaN   \n",
      "3  1904-0020   19040020      40020  Hoàng Khải Lâm   EFL 69     0        NaN   \n",
      "4  1904-0024   19040024      40024       Lê Hà Thu  Grade 9     0        NaN   \n",
      "\n",
      "  No_response       Match  \n",
      "0         NaN  Grade 9-12  \n",
      "1         NaN  Grade 9-12  \n",
      "2         NaN  Grade 9-12  \n",
      "3         NaN  Grade 9-12  \n",
      "4         NaN  Grade 9-12  \n",
      "      ID       SID                        Student                  Section  \\\n",
      "0  10424  23003601      Bui Hoang Bach - 23003601  Grade 8 Algebra I F2024   \n",
      "1   3336  20034287  Bùi Lê Thảo Nguyên - 20034287  Grade 8 Algebra I F2024   \n",
      "2   9599  22001282   Bùi Trần Bảo Minh - 22001282  Grade 8 Algebra I F2024   \n",
      "3   2986  20043685     Bùi Vũ Gia Linh - 20043685  Grade 8 Algebra I F2024   \n",
      "4  10863  23000899       Cao Quỳnh Lam - 23000899  Grade 8 Algebra I F2024   \n",
      "\n",
      "                           Quiz  Score  \\\n",
      "0  1.1 Linear Functions (78170)  100.0   \n",
      "1  1.1 Linear Functions (78170)    NaN   \n",
      "2  1.1 Linear Functions (78170)  100.0   \n",
      "3  1.1 Linear Functions (78170)  100.0   \n",
      "4  1.1 Linear Functions (78170)    NaN   \n",
      "\n",
      "                                      Source_File            Quiz_Clean  \n",
      "0  2025-09-06T0348_Grades-Grade_8_Algebra_I_F2024  1.1 Linear Functions  \n",
      "1  2025-09-06T0348_Grades-Grade_8_Algebra_I_F2024  1.1 Linear Functions  \n",
      "2  2025-09-06T0348_Grades-Grade_8_Algebra_I_F2024  1.1 Linear Functions  \n",
      "3  2025-09-06T0348_Grades-Grade_8_Algebra_I_F2024  1.1 Linear Functions  \n",
      "4  2025-09-06T0348_Grades-Grade_8_Algebra_I_F2024  1.1 Linear Functions  \n"
     ]
    }
   ],
   "source": [
    "zoom = pd.read_excel(r\"C:\\Users\\Admin\\Documents\\Studio Code\\customer_retention_data\\final_zoom.xlsx\", dtype={'SID': str, 'SID_str': str})\n",
    "goiten = pd.read_excel(r\"C:\\Users\\Admin\\Documents\\Studio Code\\customer_retention_data\\final_goiten.xlsx\", dtype={'SID_8digit':str,'SID_5digit': str})\n",
    "students = pd.read_excel(r\"C:\\Users\\Admin\\Documents\\Studio Code\\customer_retention_data\\final_student_list.xlsx\", dtype={'SID_8digit':str,'SID_5digit': str})\n",
    "canvas = pd.read_excel(r\"C:\\Users\\Admin\\Documents\\Studio Code\\customer_retention_data\\final_canvas.xlsx\", dtype={'SID': str})\n",
    "\n",
    "\n",
    "print(students.head())\n",
    "print(zoom.head())\n",
    "print(goiten.head())\n",
    "print(canvas.head())"
   ]
  },
  {
   "cell_type": "markdown",
   "id": "f32aae01",
   "metadata": {},
   "source": [
    "# Zoom dataset cleaning "
   ]
  },
  {
   "cell_type": "code",
   "execution_count": 14,
   "id": "8bb8ac25",
   "metadata": {},
   "outputs": [],
   "source": [
    "#take only the necessary columns \n",
    "zoom = zoom[['SID','Topic', 'ID', 'Host name', 'Host email', 'Start time', 'End time',\n",
    "       'Participants', 'Duration (minutes)', 'Name (original name)', 'Email',\n",
    "       'Join time', 'Leave time', 'student_stay_duration', 'Guest', \n",
    "       'date', 'time', 'day_of_week', 'hour', 'stu_join_time',\n",
    "       'stu_leave_time', 'SID_str', 'role']]\n",
    "\n",
    "#drop duplicates\n",
    "zoom = zoom.drop_duplicates(subset=['ID', 'SID', 'Join time', 'Leave time', 'Name (original name)', 'student_stay_duration'], keep='last')"
   ]
  },
  {
   "cell_type": "code",
   "execution_count": 19,
   "id": "715351cd",
   "metadata": {},
   "outputs": [
    {
     "data": {
      "text/plain": [
       "Index(['SID', 'Topic', 'ID', 'Host name', 'Host email', 'Start time',\n",
       "       'End time', 'Participants', 'Duration (minutes)',\n",
       "       'Name (original name)', 'Email', 'Join time', 'Leave time',\n",
       "       'student_stay_duration', 'Guest', 'date', 'time', 'day_of_week', 'hour',\n",
       "       'stu_join_time', 'stu_leave_time', 'SID_str', 'role',\n",
       "       'student_stay_percent', 'is_present'],\n",
       "      dtype='object')"
      ]
     },
     "execution_count": 19,
     "metadata": {},
     "output_type": "execute_result"
    }
   ],
   "source": [
    "zoom.columns"
   ]
  },
  {
   "cell_type": "code",
   "execution_count": 24,
   "id": "72d18fd8",
   "metadata": {},
   "outputs": [
    {
     "data": {
      "text/plain": [
       "minutes_leave_early\n",
       "0.0     177291\n",
       "1.0      15813\n",
       "2.0       4712\n",
       "4.0       4142\n",
       "3.0       3978\n",
       "         ...  \n",
       "89.0         6\n",
       "88.0         5\n",
       "90.0         3\n",
       "91.0         1\n",
       "94.0         1\n",
       "Name: count, Length: 95, dtype: int64"
      ]
     },
     "execution_count": 24,
     "metadata": {},
     "output_type": "execute_result"
    }
   ],
   "source": [
    "#get student_stay_percent: because total class durations are different, we will get the percent of their stay compared to that class duration\n",
    "zoom['student_stay_percent'] = (zoom['student_stay_duration']/zoom['Duration (minutes)']) *100\n",
    "\n",
    "#get is_present: whether that class is counted as Present (student stay more than 25% of class time) or Absent (<25%)\n",
    "zoom['is_present'] = (zoom['student_stay_percent']>25).astype(int)\n",
    "\n",
    "#get minutes_late & minutes leaving early\n",
    "#turn into datetime formats\n",
    "zoom['Start time'] = pd.to_datetime(zoom['Start time'])\n",
    "zoom['End time'] = pd.to_datetime(zoom['End time'])\n",
    "zoom['Join time'] = pd.to_datetime(zoom['Join time'])\n",
    "zoom['Leave time'] = pd.to_datetime(zoom['Leave time'])\n",
    "\n",
    "#get minutes late\n",
    "zoom['minutes_late'] = round((zoom['Join time']-zoom['Start time']).dt.total_seconds()/60)\n",
    "\n",
    "#get minutes leaving early\n",
    "zoom['minutes_leave_early'] = round((zoom['End time']-zoom['Leave time']).dt.total_seconds()/60)\n",
    "\n",
    "zoom['minutes_leave_early'].value_counts()"
   ]
  },
  {
   "cell_type": "code",
   "execution_count": null,
   "id": "0d5e5b91",
   "metadata": {},
   "outputs": [],
   "source": []
  }
 ],
 "metadata": {
  "kernelspec": {
   "display_name": "base",
   "language": "python",
   "name": "python3"
  },
  "language_info": {
   "codemirror_mode": {
    "name": "ipython",
    "version": 3
   },
   "file_extension": ".py",
   "mimetype": "text/x-python",
   "name": "python",
   "nbconvert_exporter": "python",
   "pygments_lexer": "ipython3",
   "version": "3.11.5"
  }
 },
 "nbformat": 4,
 "nbformat_minor": 5
}
