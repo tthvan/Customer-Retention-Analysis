{
 "cells": [
  {
   "cell_type": "code",
   "execution_count": 1,
   "id": "e2de434d",
   "metadata": {},
   "outputs": [],
   "source": [
    "import glob\n",
    "import pandas as pd\n",
    "import matplotlib.pyplot as plt\n",
    "import seaborn as sns\n",
    "import numpy as np\n",
    "#from adjustText import adjust_text"
   ]
  },
  {
   "cell_type": "code",
   "execution_count": null,
   "id": "fa61beec",
   "metadata": {},
   "outputs": [],
   "source": [
    "zoom = pd.read_excel(r\"C:\\Users\\Admin\\Documents\\Studio Code\\customer_retention_data\\final_zoom.xlsx\", dtype={'SID': str, 'SID_str': str})\n",
    "goiten = pd.read_excel(r\"C:\\Users\\Admin\\Documents\\Studio Code\\customer_retention_data\\final_goiten.xlsx\", dtype={'SID_8digit':str,'SID_5digit': str})\n",
    "students = pd.read_excel(r\"C:\\Users\\Admin\\Documents\\Studio Code\\customer_retention_data\\final_student_list.xlsx\", dtype={'SID_8digit':str,'SID_5digit': str})\n",
    "canvas = pd.read_excel(r\"C:\\Users\\Admin\\Documents\\Studio Code\\customer_retention_data\\final_canvas.xlsx\", dtype={'SID': str})\n",
    "\n",
    "\n",
    "print(students.head())\n",
    "print(zoom.head())\n",
    "print(goiten.head())\n",
    "print(canvas.head())"
   ]
  },
  {
   "cell_type": "code",
   "execution_count": null,
   "id": "8bb8ac25",
   "metadata": {},
   "outputs": [],
   "source": []
  }
 ],
 "metadata": {
  "kernelspec": {
   "display_name": "base",
   "language": "python",
   "name": "python3"
  },
  "language_info": {
   "codemirror_mode": {
    "name": "ipython",
    "version": 3
   },
   "file_extension": ".py",
   "mimetype": "text/x-python",
   "name": "python",
   "nbconvert_exporter": "python",
   "pygments_lexer": "ipython3",
   "version": "3.11.5"
  }
 },
 "nbformat": 4,
 "nbformat_minor": 5
}
